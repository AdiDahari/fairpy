{
 "metadata": {
  "language_info": {
   "codemirror_mode": {
    "name": "ipython",
    "version": 3
   },
   "file_extension": ".py",
   "mimetype": "text/x-python",
   "name": "python",
   "nbconvert_exporter": "python",
   "pygments_lexer": "ipython3",
   "version": "3.8.5"
  },
  "orig_nbformat": 2,
  "kernelspec": {
   "name": "python38564bitfef226e7ae7e4b38860a6032d4fd47f5",
   "display_name": "Python 3.8.5 64-bit"
  },
  "metadata": {
   "interpreter": {
    "hash": "31f2aee4e71d21fbe5cf8b01ff0e069b9275f58929596ceb00d14d90e3e16cd6"
   }
  }
 },
 "nbformat": 4,
 "nbformat_minor": 2,
 "cells": [
  {
   "source": [
    "# fairpy\n",
    "\n",
    "The `fairpy` library is a library of data structures and algorithms for fair division.  Its primary design goal is ease of use for both users of existing algorithms, and developers of new algorithms."
   ],
   "cell_type": "markdown",
   "metadata": {}
  },
  {
   "cell_type": "code",
   "execution_count": 1,
   "metadata": {},
   "outputs": [
    {
     "output_type": "stream",
     "name": "stdout",
     "text": [
      "Using the Community license in this session. If you have a full Xpress license, first set the XPAUTH_PATH environment variable to the full path to your license file, xpauth.xpr, and then restart Python. If you want to use the FICO Community license and no longer want to see this message, set the XPAUTH_PATH environment variable to: /usr/local/lib/python3.8/dist-packages/xpress/license/community-xpauth.xpr\nNB: setting XPAUTH_PATH will also affect any other Xpress products installed on your system.\n"
     ]
    },
    {
     "output_type": "execute_result",
     "data": {
      "text/plain": [
       "<module 'fairpy' from '/home/erelsgl/Dropbox/ariel-algorithms/fairpy/__init__.py'>"
      ]
     },
     "metadata": {},
     "execution_count": 1
    }
   ],
   "source": [
    "import fairpy\n",
    "import importlib\n",
    "importlib.reload(fairpy)"
   ]
  },
  {
   "source": [
    "## For users\n",
    "\n",
    "`fairpy` allows various input formats, so that you can easily use it on your own data, whether for research or for application.\n",
    "\n",
    "As an example application, suppose you want to allocate candies among your children. You can ask them how much they like each kind of candy, and record the answers in a dict:"
   ],
   "cell_type": "markdown",
   "metadata": {}
  },
  {
   "cell_type": "code",
   "execution_count": 2,
   "metadata": {},
   "outputs": [],
   "source": [
    "items = [\"green\", \"red\", \"blue\", \"yellow\"]\n",
    "agents = {\n",
    "    \"Ami\": {\"green\": 8, \"red\":7, \"blue\": 6, \"yellow\": 5},\n",
    "    \"Tami\": {\"green\": 12, \"red\":8, \"blue\": 4, \"yellow\": 2} }"
   ]
  },
  {
   "source": [
    "Then you can run various algorithms for indivisible item allocaiton, such as [round-robin item allocation](https://en.wikipedia.org/wiki/Round-robin_item_allocation):"
   ],
   "cell_type": "markdown",
   "metadata": {}
  },
  {
   "cell_type": "code",
   "execution_count": 3,
   "metadata": {},
   "outputs": [
    {
     "output_type": "execute_result",
     "data": {
      "text/plain": [
       "Ami gets {blue,green} with value 14.\n",
       "Tami gets {red,yellow} with value 10."
      ]
     },
     "metadata": {},
     "execution_count": 3
    }
   ],
   "source": [
    "fairpy.items.round_robin(agents)"
   ]
  },
  {
   "source": [
    "To better understand how the algorithm works, you can use the logger, which is based on the standard python `logging` library."
   ],
   "cell_type": "markdown",
   "metadata": {}
  },
  {
   "cell_type": "code",
   "execution_count": 4,
   "metadata": {},
   "outputs": [
    {
     "output_type": "stream",
     "name": "stdout",
     "text": [
      "\n",
      "Round Robin with agent-order [0, 1] and items dict_keys(['green', 'red', 'blue', 'yellow'])\n",
      "Ami takes green (value 8)\n",
      "Tami takes red (value 8)\n",
      "Ami takes blue (value 6)\n",
      "Tami takes yellow (value 2)\n"
     ]
    },
    {
     "output_type": "execute_result",
     "data": {
      "text/plain": [
       "Ami gets {blue,green} with value 14.\n",
       "Tami gets {red,yellow} with value 10."
      ]
     },
     "metadata": {},
     "execution_count": 4
    }
   ],
   "source": [
    "import sys, logging\n",
    "fairpy.items.round_robin.logger.addHandler(logging.StreamHandler(sys.stdout))\n",
    "fairpy.items.round_robin.logger.setLevel(logging.INFO)\n",
    "\n",
    "fairpy.items.round_robin(agents)"
   ]
  },
  {
   "source": [
    "You can configure the `round_robin` method with optional arguments such as the order of agents, or the subset of items to allocate. This makes it easy to use it as a subroutine in more complex algorithms."
   ],
   "cell_type": "markdown",
   "metadata": {}
  },
  {
   "cell_type": "code",
   "execution_count": 5,
   "metadata": {},
   "outputs": [
    {
     "output_type": "stream",
     "name": "stdout",
     "text": [
      "\n",
      "Round Robin with agent-order [1, 0] and items ['green', 'red', 'blue']\n",
      "Tami takes green (value 12)\n",
      "Ami takes red (value 7)\n",
      "Tami takes blue (value 4)\n"
     ]
    },
    {
     "output_type": "execute_result",
     "data": {
      "text/plain": [
       "Ami gets {red} with value 7.\n",
       "Tami gets {blue,green} with value 16."
      ]
     },
     "metadata": {},
     "execution_count": 5
    }
   ],
   "source": [
    "fairpy.items.round_robin(agents, agent_order=[1,0], items=[\"green\", \"red\", \"blue\"])"
   ]
  },
  {
   "source": [
    "Passing a dict of dicts as a parameter may be too verbose. You can call the same algorithm with only the values:\n"
   ],
   "cell_type": "markdown",
   "metadata": {}
  },
  {
   "cell_type": "code",
   "execution_count": 6,
   "metadata": {},
   "outputs": [
    {
     "output_type": "stream",
     "name": "stdout",
     "text": [
      "\n",
      "Round Robin with agent-order [0, 1] and items {0, 1, 2, 3}\n",
      "Agent #0 takes 0 (value 8)\n",
      "Agent #1 takes 1 (value 8)\n",
      "Agent #0 takes 2 (value 6)\n",
      "Agent #1 takes 3 (value 2)\n"
     ]
    },
    {
     "output_type": "execute_result",
     "data": {
      "text/plain": [
       "Agent #0 gets {0,2} with value 14.\n",
       "Agent #1 gets {1,3} with value 10."
      ]
     },
     "metadata": {},
     "execution_count": 6
    }
   ],
   "source": [
    "fairpy.items.round_robin([[8,7,6,5],[12,8,4,2]])"
   ]
  },
  {
   "cell_type": "code",
   "execution_count": null,
   "metadata": {},
   "outputs": [],
   "source": []
  }
 ]
}